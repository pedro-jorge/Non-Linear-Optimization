{
 "cells": [
  {
   "cell_type": "code",
   "execution_count": 511,
   "metadata": {},
   "outputs": [],
   "source": [
    "import random \n",
    "import numpy as np\n",
    "from typing import *"
   ]
  },
  {
   "cell_type": "code",
   "execution_count": 512,
   "metadata": {},
   "outputs": [],
   "source": [
    "class GeneticAlgorithm:\n",
    "    def __init__(\n",
    "        self,\n",
    "        pop_size: int,\n",
    "        sequences: List[List[str]],\n",
    "        crossover_prob: float = 0.8,\n",
    "        mutation_prob: float = 0.01,\n",
    "        max_iters: int = 1\n",
    "    ):\n",
    "        \"\"\"\n",
    "        Algoritmo genético para o problema do alinhamento múltiplo de sequências\n",
    "\n",
    "        Args:\n",
    "            n_sequences (int): número de sequências a serem alinhadas, dimensão do problema\n",
    "            pop_size (int): tamanho da população\n",
    "            sequences (List[str]): sequências a serem alinhadas\n",
    "        \"\"\"\n",
    "        # constantes para melhor legibilidade\n",
    "        self.GAP = \"-\"\n",
    "        self.AMINO_ACIDS= set([\n",
    "            'A', 'R', 'N', 'D', 'C', 'Q', 'E', \n",
    "             'G', 'H', 'I', 'L', 'K', 'M', 'F', \n",
    "             'P', 'S', 'T', 'W', 'Y', 'V'\n",
    "        ])\n",
    "        \n",
    "        # matriz da relação de punição na troca de aminoácidos\n",
    "        self.PAM250 = self.get_PAM250()\n",
    "        \n",
    "        # dimensões do problema\n",
    "        self.n_sequences = len(sequences)\n",
    "        self.pop_size = pop_size\n",
    "        self.max_iters = max_iters\n",
    "        \n",
    "        self.population = []\n",
    "        self.pop_fitness = np.zeros(pop_size)\n",
    "        \n",
    "        # criando os gaps para que todos os pontos tenham o mesmo tamanho\n",
    "        # pega o tamanho da maior sequência\n",
    "        largest_sequence = max(sequences, key=len)\n",
    "        sequences.remove(largest_sequence)\n",
    "        \n",
    "        for i in range(pop_size):\n",
    "            point = [largest_sequence]\n",
    "            for sequence in sequences:\n",
    "                while len(sequence) < len(largest_sequence):\n",
    "                    idx = random.randint(0, len(sequence)-1)\n",
    "                    sequence = sequence[:idx] + [self.GAP] + sequence[idx:]\n",
    "                point.append(sequence)\n",
    "                \n",
    "            self.population.append(point)\n",
    "            self.pop_fitness[i] = self.fitness(point)\n",
    "            \n",
    "        \n",
    "        #self.print_population()\n",
    "        \n",
    "        print(self.fitness(self.population[1]))\n",
    "        \n",
    "    \n",
    "    def print_population(self):\n",
    "        for point in self.population:\n",
    "            print(point)\n",
    "            print(\"\\n\")\n",
    "            \n",
    "            \n",
    "    def crossover(self, P1: str, P2: str):\n",
    "        operator = 1 \n",
    "        \n",
    "        child_1 = [None] * self.n_sequences\n",
    "        child_2 = [None] * self.n_sequences\n",
    "        \n",
    "        #idx = random.randint(0, len(S1))\n",
    "        idx = 2\n",
    "        # como fazer o gap é um problema ainda\n",
    "        for i in range(self.n_sequences):\n",
    "            if operator == 1:\n",
    "                child_1[i] = P1[i][:idx] + P2[i][idx:]\n",
    "                child_2[i] = P2[i][:idx] + P1[i][idx:]\n",
    "            \n",
    "            elif operator == 2:\n",
    "                if i < idx:\n",
    "                    child_1[i] = P1[i]\n",
    "                    child_2[i] = P2[i]\n",
    "                else:\n",
    "                    child_1[i] = P2[i]\n",
    "                    child_2[i] = P1[i]\n",
    "                    \n",
    "        return [child_1, child_2]\n",
    "    \n",
    "    \n",
    "    def mutation(self, P: str):\n",
    "        operator = 3\n",
    "        \n",
    "        i = random.randint(0, self.n_sequences-1)\n",
    "        sequence_size = len(P[i])\n",
    "        \n",
    "        if operator == 1:\n",
    "            while True:\n",
    "                p1 = random.randint(0, sequence_size-1)\n",
    "                p2 = random.randint(0, sequence_size-1)\n",
    "                \n",
    "                if p1 != p2:\n",
    "                    temp = P[i][p1]\n",
    "                    P[i][p1] = P[i][p2]\n",
    "                    P[i][p2] = temp\n",
    "                    break\n",
    "        \n",
    "        elif operator == 2:\n",
    "            while True:\n",
    "                p1 = random.randint(0, sequence_size-1)\n",
    "                p2 = random.randint(0, sequence_size-1)\n",
    "                p3 = random.randint(0, sequence_size-1)\n",
    "                \n",
    "                if p1 != p2 and p1 != p3 and p2 != p3:\n",
    "                    temp1 = P[i][p1]\n",
    "                    temp2 = P[i][p2]\n",
    "                    \n",
    "                    P[i][p1] = P[i][p3]\n",
    "                    P[i][p2] = temp1\n",
    "                    P[i][p3] = temp2\n",
    "                    break\n",
    "        \n",
    "        elif operator == 3:\n",
    "            while True:\n",
    "                p1 = random.randint(0, sequence_size-1)\n",
    "                p2 = random.randint(0, sequence_size-1)\n",
    "                \n",
    "                if p1 > p2:\n",
    "                    p1, p2 = p2, p1\n",
    "                \n",
    "                if p1 != p2:\n",
    "                    P[i] = P[i][:p1] + list(reversed(P[i][p1:p2])) + P[i][p2:]\n",
    "                    break\n",
    "        \n",
    "        return P\n",
    "                    \n",
    "    \n",
    "    def fitness(self, point):\n",
    "        sum = 0\n",
    "        for i in range(len(point)-1):\n",
    "            for j in range(i+1, len(point)):\n",
    "                print(point[i])\n",
    "                print(point[j])\n",
    "\n",
    "                sum += self.gap_penalty(point[i], point[j])\n",
    "                print(\"\\n\")\n",
    "        \n",
    "        return sum\n",
    "    \n",
    "    \n",
    "    def gap_penalty(self, S1: str, S2: str) -> int:\n",
    "        penalty = 0\n",
    "        for s1, s2 in zip(S1, S2):\n",
    "            if s1 == self.GAP and s2 == self.GAP:\n",
    "                penalty += 1\n",
    "            \n",
    "            elif s1 in self.AMINO_ACIDS and s2 == self.GAP:\n",
    "                penalty += 2\n",
    "            \n",
    "            elif s1 == self.GAP and s2 in self.AMINO_ACIDS:\n",
    "                penalty += 3\n",
    "            \n",
    "            elif s1 in self.AMINO_ACIDS and s2 in self.AMINO_ACIDS:\n",
    "                penalty += self.PAM250[s1][s2]\n",
    "        \n",
    "        return penalty\n",
    "        \n",
    "    \n",
    "    def get_PAM250(self): # PAM250 scoring matrix\n",
    "        sMatrixTxt = '''\n",
    "        A  C  D  E  F  G  H  I  K  L  M  N  P  Q  R  S  T  V  W  Y\n",
    "        A  2 -2  0  0 -3  1 -1 -1 -1 -2 -1  0  1  0 -2  1  1  0 -6 -3\n",
    "        C -2 12 -5 -5 -4 -3 -3 -2 -5 -6 -5 -4 -3 -5 -4  0 -2 -2 -8  0\n",
    "        D  0 -5  4  3 -6  1  1 -2  0 -4 -3  2 -1  2 -1  0  0 -2 -7 -4\n",
    "        E  0 -5  3  4 -5  0  1 -2  0 -3 -2  1 -1  2 -1  0  0 -2 -7 -4\n",
    "        F -3 -4 -6 -5  9 -5 -2  1 -5  2  0 -3 -5 -5 -4 -3 -3 -1  0  7\n",
    "        G  1 -3  1  0 -5  5 -2 -3 -2 -4 -3  0  0 -1 -3  1  0 -1 -7 -5\n",
    "        H -1 -3  1  1 -2 -2  6 -2  0 -2 -2  2  0  3  2 -1 -1 -2 -3  0\n",
    "        I -1 -2 -2 -2  1 -3 -2  5 -2  2  2 -2 -2 -2 -2 -1  0  4 -5 -1\n",
    "        K -1 -5  0  0 -5 -2  0 -2  5 -3  0  1 -1  1  3  0  0 -2 -3 -4\n",
    "        L -2 -6 -4 -3  2 -4 -2  2 -3  6  4 -3 -3 -2 -3 -3 -2  2 -2 -1\n",
    "        M -1 -5 -3 -2  0 -3 -2  2  0  4  6 -2 -2 -1  0 -2 -1  2 -4 -2\n",
    "        N  0 -4  2  1 -3  0  2 -2  1 -3 -2  2  0  1  0  1  0 -2 -4 -2\n",
    "        P  1 -3 -1 -1 -5  0  0 -2 -1 -3 -2  0  6  0  0  1  0 -1 -6 -5\n",
    "        Q  0 -5  2  2 -5 -1  3 -2  1 -2 -1  1  0  4  1 -1 -1 -2 -5 -4\n",
    "        R -2 -4 -1 -1 -4 -3  2 -2  3 -3  0  0  0  1  6  0 -1 -2  2 -4\n",
    "        S  1  0  0  0 -3  1 -1 -1  0 -3 -2  1  1 -1  0  2  1 -1 -2 -3\n",
    "        T  1 -2  0  0 -3  0 -1  0  0 -2 -1  0  0 -1 -1  1  3  0 -5 -3\n",
    "        V  0 -2 -2 -2 -1 -1 -2  4 -2  2  2 -2 -1 -2 -2 -1  0  4 -6 -2\n",
    "        W -6 -8 -7 -7  0 -7 -3 -5 -3 -2 -4 -4 -6 -5  2 -2 -5 -6 17  0\n",
    "        Y -3  0 -4 -4  7 -5  0 -1 -4 -1 -2 -2 -5 -4 -4 -3 -3 -2  0 10\n",
    "    '''\n",
    "        sMatrixList = sMatrixTxt.strip().split('\\n')\n",
    "        aaList = sMatrixList[0].split()\n",
    "        sMatrix = dict()\n",
    "        for aa in aaList:\n",
    "            sMatrix[aa] = dict()\n",
    "        for i in range(1, len(aaList) + 1):\n",
    "            currRow = sMatrixList[i].split()\n",
    "            for j in range(len(aaList)):\n",
    "                sMatrix[currRow[0]][aaList[j]] = int(currRow[j + 1])\n",
    "        return sMatrix\n",
    "    \n",
    "    \n",
    "    def run(self):\n",
    "        for gen in range(self.max_iters):\n",
    "            self.population = [self.population[i] for i in np.argsort(self.pop_fitness)]\n",
    "            self.pop_fitness = [self.pop_fitness[i] for i in np.argsort(self.pop_fitness)]\n",
    "            \n",
    "            children = []\n",
    "            \n",
    "            for i in range(0, int(0.6 * self.pop_size), 2):\n",
    "                children += self.crossover(self.population[i], self.population[i+1])\n",
    "            \n",
    "            for i in range(0, int(0.4 * self.pop_size)):\n",
    "                children.append(self.mutation(self.population[i]))\n",
    "            \n",
    "            \n",
    "                "
   ]
  },
  {
   "cell_type": "code",
   "execution_count": 513,
   "metadata": {},
   "outputs": [
    {
     "name": "stdout",
     "output_type": "stream",
     "text": [
      "['A', 'A', 'A', 'A', 'A', 'A']\n",
      "['-', '-', 'R', 'R', '-', 'R']\n",
      "\n",
      "\n",
      "['A', 'A', 'A', 'A', 'A', 'A']\n",
      "['L', 'L', '-', 'L', '-', 'L']\n",
      "\n",
      "\n",
      "['A', 'A', 'A', 'A', 'A', 'A']\n",
      "['K', 'K', '-', 'K', 'K', 'K']\n",
      "\n",
      "\n",
      "['-', '-', 'R', 'R', '-', 'R']\n",
      "['L', 'L', '-', 'L', '-', 'L']\n",
      "\n",
      "\n",
      "['-', '-', 'R', 'R', '-', 'R']\n",
      "['K', 'K', '-', 'K', 'K', 'K']\n",
      "\n",
      "\n",
      "['L', 'L', '-', 'L', '-', 'L']\n",
      "['K', 'K', '-', 'K', 'K', 'K']\n",
      "\n",
      "\n",
      "['A', 'A', 'A', 'A', 'A', 'A']\n",
      "['-', '-', 'R', 'R', '-', 'R']\n",
      "\n",
      "\n",
      "['A', 'A', 'A', 'A', 'A', 'A']\n",
      "['L', 'L', '-', '-', 'L', 'L']\n",
      "\n",
      "\n",
      "['A', 'A', 'A', 'A', 'A', 'A']\n",
      "['K', 'K', '-', 'K', 'K', 'K']\n",
      "\n",
      "\n",
      "['-', '-', 'R', 'R', '-', 'R']\n",
      "['L', 'L', '-', '-', 'L', 'L']\n",
      "\n",
      "\n",
      "['-', '-', 'R', 'R', '-', 'R']\n",
      "['K', 'K', '-', 'K', 'K', 'K']\n",
      "\n",
      "\n",
      "['L', 'L', '-', '-', 'L', 'L']\n",
      "['K', 'K', '-', 'K', 'K', 'K']\n",
      "\n",
      "\n",
      "['A', 'A', 'A', 'A', 'A', 'A']\n",
      "['-', '-', '-', 'R', 'R', 'R']\n",
      "\n",
      "\n",
      "['A', 'A', 'A', 'A', 'A', 'A']\n",
      "['L', 'L', '-', '-', 'L', 'L']\n",
      "\n",
      "\n",
      "['A', 'A', 'A', 'A', 'A', 'A']\n",
      "['K', 'K', '-', 'K', 'K', 'K']\n",
      "\n",
      "\n",
      "['-', '-', '-', 'R', 'R', 'R']\n",
      "['L', 'L', '-', '-', 'L', 'L']\n",
      "\n",
      "\n",
      "['-', '-', '-', 'R', 'R', 'R']\n",
      "['K', 'K', '-', 'K', 'K', 'K']\n",
      "\n",
      "\n",
      "['L', 'L', '-', '-', 'L', 'L']\n",
      "['K', 'K', '-', 'K', 'K', 'K']\n",
      "\n",
      "\n",
      "['A', 'A', 'A', 'A', 'A', 'A']\n",
      "['-', '-', 'R', 'R', '-', 'R']\n",
      "\n",
      "\n",
      "['A', 'A', 'A', 'A', 'A', 'A']\n",
      "['L', 'L', '-', '-', 'L', 'L']\n",
      "\n",
      "\n",
      "['A', 'A', 'A', 'A', 'A', 'A']\n",
      "['K', 'K', '-', 'K', 'K', 'K']\n",
      "\n",
      "\n",
      "['-', '-', 'R', 'R', '-', 'R']\n",
      "['L', 'L', '-', '-', 'L', 'L']\n",
      "\n",
      "\n",
      "['-', '-', 'R', 'R', '-', 'R']\n",
      "['K', 'K', '-', 'K', 'K', 'K']\n",
      "\n",
      "\n",
      "['L', 'L', '-', '-', 'L', 'L']\n",
      "['K', 'K', '-', 'K', 'K', 'K']\n",
      "\n",
      "\n",
      "12\n"
     ]
    }
   ],
   "source": [
    "sequences = [\n",
    "    [\"A\",\"A\",\"A\",\"A\",\"A\",\"A\"],\n",
    "    [\"R\",\"R\",\"R\"],\n",
    "    [\"L\",\"L\",\"L\",\"L\"],\n",
    "    [\"K\",\"K\",\"K\",\"K\",\"K\"]\n",
    "]\n",
    "\n",
    "ga = GeneticAlgorithm(3, sequences)"
   ]
  },
  {
   "cell_type": "code",
   "execution_count": 514,
   "metadata": {},
   "outputs": [],
   "source": [
    "S1 = [\"EGKVN---EDEVAGEAL-\",\n",
    "      \"EDKVNEEE---VGGEAL-\",\n",
    "      \"EGKVG--AHLGEYGAEAL\",\n",
    "      \"ESKVAGHAA--GEYGAEAL\"]\n",
    "\n",
    "S2 = [\"--WGKVDVDLVG-GEAL\",\n",
    "      \"ED--KVNEEGVG-GEAL\",\n",
    "      \"EGKVGA-AEGEYGAEAL\",\n",
    "      \"ESKVAGHAGAY-GAEAL\"]\n",
    "\n",
    "C1, C2 = ga.crossover(S1, S2)"
   ]
  },
  {
   "cell_type": "code",
   "execution_count": 515,
   "metadata": {},
   "outputs": [
    {
     "data": {
      "text/plain": [
       "['EGWGKVDVDLVG-GEAL',\n",
       " 'ED--KVNEEGVG-GEAL',\n",
       " 'EGKVGA-AEGEYGAEAL',\n",
       " 'ESKVAGHAGAY-GAEAL']"
      ]
     },
     "execution_count": 515,
     "metadata": {},
     "output_type": "execute_result"
    }
   ],
   "source": [
    "C1"
   ]
  },
  {
   "cell_type": "code",
   "execution_count": 516,
   "metadata": {},
   "outputs": [
    {
     "data": {
      "text/plain": [
       "['--KVN---EDEVAGEAL-',\n",
       " 'EDKVNEEE---VGGEAL-',\n",
       " 'EGKVG--AHLGEYGAEAL',\n",
       " 'ESKVAGHAA--GEYGAEAL']"
      ]
     },
     "execution_count": 516,
     "metadata": {},
     "output_type": "execute_result"
    }
   ],
   "source": [
    "C2"
   ]
  },
  {
   "cell_type": "code",
   "execution_count": 517,
   "metadata": {},
   "outputs": [
    {
     "name": "stdout",
     "output_type": "stream",
     "text": [
      "18\n",
      "18\n",
      "18\n",
      "19\n",
      "\n",
      "\n",
      "17\n",
      "17\n",
      "17\n",
      "17\n"
     ]
    }
   ],
   "source": [
    "for i in range(len(S1)):\n",
    "    print(len(S1[i]))\n",
    "\n",
    "print(\"\\n\")\n",
    "\n",
    "for i in range(len(S2)):\n",
    "    print(len(S2[i]))"
   ]
  },
  {
   "cell_type": "code",
   "execution_count": 518,
   "metadata": {},
   "outputs": [
    {
     "name": "stdout",
     "output_type": "stream",
     "text": [
      "17\n",
      "17\n",
      "17\n",
      "17\n",
      "\n",
      "\n",
      "18\n",
      "18\n",
      "18\n",
      "19\n"
     ]
    }
   ],
   "source": [
    "for i in range(len(C1)):\n",
    "    print(len(C1[i]))\n",
    "\n",
    "print(\"\\n\")\n",
    "\n",
    "for i in range(len(C2)):\n",
    "    print(len(C2[i]))"
   ]
  },
  {
   "cell_type": "code",
   "execution_count": 519,
   "metadata": {},
   "outputs": [
    {
     "data": {
      "text/plain": [
       "['EGWGKVDVDLVG-GEAL',\n",
       " 'ED--KVNEEGVG-GEAL',\n",
       " 'EGKVGA-AEGEYGAEAL',\n",
       " 'ESKVAGHAGAY-GAEAL']"
      ]
     },
     "execution_count": 519,
     "metadata": {},
     "output_type": "execute_result"
    }
   ],
   "source": [
    "C1"
   ]
  },
  {
   "cell_type": "code",
   "execution_count": 520,
   "metadata": {},
   "outputs": [
    {
     "data": {
      "text/plain": [
       "['--KVN---EDEVAGEAL-',\n",
       " 'EDKVNEEE---VGGEAL-',\n",
       " 'EGKVG--AHLGEYGAEAL',\n",
       " 'ESKVAGHAA--GEYGAEAL']"
      ]
     },
     "execution_count": 520,
     "metadata": {},
     "output_type": "execute_result"
    }
   ],
   "source": [
    "C2"
   ]
  },
  {
   "cell_type": "code",
   "execution_count": 521,
   "metadata": {},
   "outputs": [
    {
     "data": {
      "text/plain": [
       "[['A', 'A', 'A', 'A', 'A', 'A'],\n",
       " ['-', '-', 'R', 'R', '-', 'R'],\n",
       " ['L', 'L', '-', 'L', '-', 'L'],\n",
       " ['K', 'K', '-', 'K', 'K', 'K']]"
      ]
     },
     "execution_count": 521,
     "metadata": {},
     "output_type": "execute_result"
    }
   ],
   "source": [
    "ga.population[0]"
   ]
  },
  {
   "cell_type": "code",
   "execution_count": 522,
   "metadata": {},
   "outputs": [
    {
     "data": {
      "text/plain": [
       "[['A', 'A', 'A', 'A', 'A', 'A'],\n",
       " ['-', 'R', 'R', '-', '-', 'R'],\n",
       " ['L', 'L', '-', 'L', '-', 'L'],\n",
       " ['K', 'K', '-', 'K', 'K', 'K']]"
      ]
     },
     "execution_count": 522,
     "metadata": {},
     "output_type": "execute_result"
    }
   ],
   "source": [
    "ga.mutation(ga.population[0])"
   ]
  },
  {
   "cell_type": "code",
   "execution_count": 523,
   "metadata": {},
   "outputs": [
    {
     "name": "stdout",
     "output_type": "stream",
     "text": [
      "[['A', 'A', 'A', 'A', 'A', 'A'], ['-', 'R', 'R', '-', '-', 'R'], ['L', 'L', '-', 'L', '-', 'L'], ['K', 'K', '-', 'K', 'K', 'K']]\n",
      "\n",
      "\n",
      "[['A', 'A', 'A', 'A', 'A', 'A'], ['-', '-', 'R', 'R', '-', 'R'], ['L', 'L', '-', '-', 'L', 'L'], ['K', 'K', '-', 'K', 'K', 'K']]\n",
      "\n",
      "\n",
      "[['A', 'A', 'A', 'A', 'A', 'A'], ['-', '-', '-', 'R', 'R', 'R'], ['L', 'L', '-', '-', 'L', 'L'], ['K', 'K', '-', 'K', 'K', 'K']]\n",
      "\n",
      "\n"
     ]
    }
   ],
   "source": [
    "ga.print_population()"
   ]
  },
  {
   "cell_type": "code",
   "execution_count": 524,
   "metadata": {},
   "outputs": [
    {
     "data": {
      "text/plain": [
       "array([ 5., 12.,  4.])"
      ]
     },
     "execution_count": 524,
     "metadata": {},
     "output_type": "execute_result"
    }
   ],
   "source": [
    "ga.pop_fitness"
   ]
  },
  {
   "cell_type": "code",
   "execution_count": 525,
   "metadata": {},
   "outputs": [
    {
     "data": {
      "text/plain": [
       "array([2, 0, 1])"
      ]
     },
     "execution_count": 525,
     "metadata": {},
     "output_type": "execute_result"
    }
   ],
   "source": [
    "np.argsort(ga.pop_fitness)"
   ]
  },
  {
   "cell_type": "code",
   "execution_count": 526,
   "metadata": {},
   "outputs": [
    {
     "data": {
      "text/plain": [
       "[np.float64(4.0), np.float64(5.0), np.float64(12.0)]"
      ]
     },
     "execution_count": 526,
     "metadata": {},
     "output_type": "execute_result"
    }
   ],
   "source": [
    "[ga.pop_fitness[i] for i in np.argsort(ga.pop_fitness)]"
   ]
  },
  {
   "cell_type": "code",
   "execution_count": 529,
   "metadata": {},
   "outputs": [
    {
     "name": "stdout",
     "output_type": "stream",
     "text": [
      "[np.float64(4.0), np.float64(5.0), np.float64(12.0)]\n"
     ]
    }
   ],
   "source": [
    "ga.run()"
   ]
  },
  {
   "cell_type": "code",
   "execution_count": null,
   "metadata": {},
   "outputs": [],
   "source": []
  }
 ],
 "metadata": {
  "kernelspec": {
   "display_name": "base",
   "language": "python",
   "name": "python3"
  },
  "language_info": {
   "codemirror_mode": {
    "name": "ipython",
    "version": 3
   },
   "file_extension": ".py",
   "mimetype": "text/x-python",
   "name": "python",
   "nbconvert_exporter": "python",
   "pygments_lexer": "ipython3",
   "version": "3.11.10"
  }
 },
 "nbformat": 4,
 "nbformat_minor": 2
}
