{
 "cells": [
  {
   "cell_type": "code",
   "execution_count": 14,
   "metadata": {},
   "outputs": [],
   "source": [
    "import random \n",
    "import numpy as np\n",
    "from typing import *"
   ]
  },
  {
   "cell_type": "code",
   "execution_count": 15,
   "metadata": {},
   "outputs": [],
   "source": [
    "class GeneticAlgorithm:\n",
    "    def __init__(\n",
    "        self,\n",
    "        pop_size: int,\n",
    "        sequences: List[List[str]],\n",
    "        crossover_prob: float = 0.8,\n",
    "        mutation_prob: float = 0.01,\n",
    "        max_iters: int = 2\n",
    "    ):\n",
    "        \"\"\"\n",
    "        Algoritmo genético para o problema do alinhamento múltiplo de sequências\n",
    "\n",
    "        Args:\n",
    "            n_sequences (int): número de sequências a serem alinhadas, dimensão do problema\n",
    "            pop_size (int): tamanho da população\n",
    "            sequences (List[str]): sequências a serem alinhadas\n",
    "        \"\"\"\n",
    "        # constantes para melhor legibilidade\n",
    "        self.GAP = \"-\"\n",
    "        self.AMINO_ACIDS= set([\n",
    "            'A', 'R', 'N', 'D', 'C', 'Q', 'E', \n",
    "             'G', 'H', 'I', 'L', 'K', 'M', 'F', \n",
    "             'P', 'S', 'T', 'W', 'Y', 'V'\n",
    "        ])\n",
    "        \n",
    "        # matriz da relação de punição na troca de aminoácidos\n",
    "        self.PAM250 = self.get_PAM250()\n",
    "        \n",
    "        # dimensões do problema\n",
    "        self.n_sequences = len(sequences)\n",
    "        self.pop_size = pop_size\n",
    "        self.max_iters = max_iters\n",
    "        \n",
    "        self.mutation_prob = mutation_prob\n",
    "        self.crossover_prob = crossover_prob\n",
    "        \n",
    "        self.population = []\n",
    "        self.pop_fitness = np.zeros(pop_size) \n",
    "        \n",
    "        # criando os gaps para que todos os pontos tenham o mesmo tamanho  \n",
    "        # pega o tamanho da maior sequência\n",
    "        largest_sequence = max(sequences, key=len)\n",
    "        sequences.remove(largest_sequence)\n",
    "        \n",
    "        for i in range(pop_size):\n",
    "            point = [largest_sequence]\n",
    "            for sequence in sequences:\n",
    "                while len(sequence) < len(largest_sequence):\n",
    "                    idx = random.randint(0, len(sequence))\n",
    "                    sequence = sequence[:idx] + [self.GAP] + sequence[idx:]\n",
    "                point.append(sequence)\n",
    "            \n",
    "            self.population.append(point)\n",
    "            self.pop_fitness[i] = self.fitness(point)\n",
    "        \n",
    "    \n",
    "    def print_population(self):\n",
    "        for point in self.population:\n",
    "            print(point)\n",
    "            print(\"\\n\")\n",
    "            \n",
    "            \n",
    "    def crossover(self, P1: str, P2: str):\n",
    "        operator = random.randint(1, 2) \n",
    "        \n",
    "        child_1 = [None] * self.n_sequences\n",
    "        child_2 = [None] * self.n_sequences\n",
    "        \n",
    "        idx = random.randint(0, len(P1))\n",
    "        # como fazer o gap é um problema ainda\n",
    "        for i in range(self.n_sequences):\n",
    "            if operator == 1:\n",
    "                child_1[i] = P1[i][:idx] + P2[i][idx:]\n",
    "                child_2[i] = P2[i][:idx] + P1[i][idx:]\n",
    "            \n",
    "            elif operator == 2:\n",
    "                if i < idx:\n",
    "                    child_1[i] = P1[i]\n",
    "                    child_2[i] = P2[i]\n",
    "                else:\n",
    "                    child_1[i] = P2[i]\n",
    "                    child_2[i] = P1[i]\n",
    "                    \n",
    "        return [child_1, child_2]\n",
    "    \n",
    "    \n",
    "    def mutation(self, P: str):\n",
    "        operator = 0\n",
    "        \n",
    "        i = random.randint(0, self.n_sequences-1)\n",
    "        sequence_size = len(P[i])\n",
    "        \n",
    "        if operator == 0:\n",
    "            for idx in range(sequence_size-1):\n",
    "                if P[i][idx] == \"-\":\n",
    "                    for j in range(idx, sequence_size-1):\n",
    "                        if P[i][j] != \"-\":\n",
    "                            P[i][idx] = P[i][j]\n",
    "                            P[i][j] = \"-\"\n",
    "                            break\n",
    "        \n",
    "        return P\n",
    "                    \n",
    "    \n",
    "    def fitness(self, point):\n",
    "        sum = 0\n",
    "        for i in range(len(point)-1):\n",
    "            for j in range(i+1, len(point)):\n",
    "                sum += self.gap_penalty(point[i], point[j])\n",
    "        \n",
    "        return -sum\n",
    "    \n",
    "    \n",
    "    def gap_penalty(self, S1: str, S2: str) -> int:\n",
    "        penalty = 0\n",
    "        for s1, s2 in zip(S1, S2):\n",
    "            if s1 == self.GAP and s2 == self.GAP:\n",
    "                penalty += 1\n",
    "            \n",
    "            elif s1 in self.AMINO_ACIDS and s2 == self.GAP:\n",
    "                penalty += 2\n",
    "            \n",
    "            elif s1 == self.GAP and s2 in self.AMINO_ACIDS:\n",
    "                penalty += 3\n",
    "            \n",
    "            elif s1 in self.AMINO_ACIDS and s2 in self.AMINO_ACIDS:\n",
    "                penalty += self.PAM250[s1][s2]\n",
    "        \n",
    "        return penalty\n",
    "        \n",
    "    \n",
    "    def get_PAM250(self): # PAM250 scoring matrix\n",
    "        sMatrixTxt = '''\n",
    "        A  C  D  E  F  G  H  I  K  L  M  N  P  Q  R  S  T  V  W  Y\n",
    "        A  2 -2  0  0 -3  1 -1 -1 -1 -2 -1  0  1  0 -2  1  1  0 -6 -3\n",
    "        C -2 12 -5 -5 -4 -3 -3 -2 -5 -6 -5 -4 -3 -5 -4  0 -2 -2 -8  0\n",
    "        D  0 -5  4  3 -6  1  1 -2  0 -4 -3  2 -1  2 -1  0  0 -2 -7 -4\n",
    "        E  0 -5  3  4 -5  0  1 -2  0 -3 -2  1 -1  2 -1  0  0 -2 -7 -4\n",
    "        F -3 -4 -6 -5  9 -5 -2  1 -5  2  0 -3 -5 -5 -4 -3 -3 -1  0  7\n",
    "        G  1 -3  1  0 -5  5 -2 -3 -2 -4 -3  0  0 -1 -3  1  0 -1 -7 -5\n",
    "        H -1 -3  1  1 -2 -2  6 -2  0 -2 -2  2  0  3  2 -1 -1 -2 -3  0\n",
    "        I -1 -2 -2 -2  1 -3 -2  5 -2  2  2 -2 -2 -2 -2 -1  0  4 -5 -1\n",
    "        K -1 -5  0  0 -5 -2  0 -2  5 -3  0  1 -1  1  3  0  0 -2 -3 -4\n",
    "        L -2 -6 -4 -3  2 -4 -2  2 -3  6  4 -3 -3 -2 -3 -3 -2  2 -2 -1\n",
    "        M -1 -5 -3 -2  0 -3 -2  2  0  4  6 -2 -2 -1  0 -2 -1  2 -4 -2\n",
    "        N  0 -4  2  1 -3  0  2 -2  1 -3 -2  2  0  1  0  1  0 -2 -4 -2\n",
    "        P  1 -3 -1 -1 -5  0  0 -2 -1 -3 -2  0  6  0  0  1  0 -1 -6 -5\n",
    "        Q  0 -5  2  2 -5 -1  3 -2  1 -2 -1  1  0  4  1 -1 -1 -2 -5 -4\n",
    "        R -2 -4 -1 -1 -4 -3  2 -2  3 -3  0  0  0  1  6  0 -1 -2  2 -4\n",
    "        S  1  0  0  0 -3  1 -1 -1  0 -3 -2  1  1 -1  0  2  1 -1 -2 -3\n",
    "        T  1 -2  0  0 -3  0 -1  0  0 -2 -1  0  0 -1 -1  1  3  0 -5 -3\n",
    "        V  0 -2 -2 -2 -1 -1 -2  4 -2  2  2 -2 -1 -2 -2 -1  0  4 -6 -2\n",
    "        W -6 -8 -7 -7  0 -7 -3 -5 -3 -2 -4 -4 -6 -5  2 -2 -5 -6 17  0\n",
    "        Y -3  0 -4 -4  7 -5  0 -1 -4 -1 -2 -2 -5 -4 -4 -3 -3 -2  0 10\n",
    "    '''\n",
    "        sMatrixList = sMatrixTxt.strip().split('\\n')\n",
    "        aaList = sMatrixList[0].split()\n",
    "        sMatrix = dict()\n",
    "        for aa in aaList:\n",
    "            sMatrix[aa] = dict()\n",
    "        for i in range(1, len(aaList) + 1):\n",
    "            currRow = sMatrixList[i].split()\n",
    "            for j in range(len(aaList)):\n",
    "                sMatrix[currRow[0]][aaList[j]] = int(currRow[j + 1])\n",
    "        return sMatrix\n",
    "    \n",
    "    \n",
    "    def generate_L(self):\n",
    "        L = []\n",
    "        tau = np.zeros(self.pop_size)\n",
    "            \n",
    "        for i in range(self.pop_size):\n",
    "            tau[i] = 1/(self.pop_fitness[i] - min(self.pop_fitness)+1)\n",
    "            \n",
    "        prob = tau / sum(tau)\n",
    "        \n",
    "        alpha = np.random.rand()\n",
    "        p = prob[0]\n",
    "        i = 0\n",
    "        while alpha > p:\n",
    "            p += prob[i]\n",
    "            L.append(self.population[i])\n",
    "            i+=1\n",
    "        \n",
    "        return L[:int(self.pop_size/2)]\n",
    "\n",
    "    \n",
    "    def form_pairs(self, L1, L2):\n",
    "        pairs = []\n",
    "        for l1, l2 in zip(L1, L2):\n",
    "            if l1 is not None and l2 is not None:\n",
    "                pairs.append([l1, l2])\n",
    "        \n",
    "        return pairs\n",
    "            \n",
    "        \n",
    "    def run(self):\n",
    "        for gen in range(self.max_iters):\n",
    "            L1 = self.generate_L()\n",
    "            L2 = self.generate_L()\n",
    "            \n",
    "            pairs = self.form_pairs(L1, L2)\n",
    "            \n",
    "            children = []\n",
    "            \n",
    "            for i in range(len(pairs)):\n",
    "                child_1, child_2 = self.crossover(pairs[i][0], pairs[i][1])\n",
    "                children.append(child_1)\n",
    "                children.append(child_2)\n",
    "            \n",
    "            self.population = self.population + children\n",
    "            self.population = [self.population[i] for i in np.argsort(self.pop_fitness)][0:self.pop_size]\n",
    "            \n",
    "            pop_fitness = np.zeros(self.pop_size)\n",
    "            for i in range(self.pop_size):\n",
    "                pop_fitness[i] = self.fitness(self.population[i])\n",
    "\n",
    "            self.pop_fitness = pop_fitness \n",
    "            \n",
    "            if np.random.rand() < self.mutation_prob:\n",
    "                i = np.random.randint(0, self.pop_size-1)\n",
    "                self.population[i] = self.mutation(self.population[i])\n",
    "        \n",
    "        return self.pop_fitness[np.argsort(self.pop_fitness)[0]], self.population[np.argsort(self.pop_fitness)[0]]\n",
    "            \n",
    "\n",
    "    def print_sequence(self, sequence):\n",
    "        for line in sequence:\n",
    "            print(line)"
   ]
  },
  {
   "cell_type": "code",
   "execution_count": 16,
   "metadata": {},
   "outputs": [
    {
     "data": {
      "text/plain": [
       "(np.float64(-41.0),\n",
       " [['G', 'C', 'P', 'F', 'S', 'S', 'P', 'N', 'V', 'E', '-', 'A'],\n",
       "  ['G', 'C', 'P', 'Y', 'G', 'C', 'S', 'P', '-', 'E', 'A', 'D']])"
      ]
     },
     "execution_count": 16,
     "metadata": {},
     "output_type": "execute_result"
    }
   ],
   "source": [
    "sequences = [\n",
    "    [\"G\",\"C\",\"P\",\"F\",\"S\",\"-\",\"S\",\"P\",\"N\",\"V\",\"E\",\"A\"],\n",
    "    [\"G\",\"C\",\"P\",\"Y\",\"G\",\"C\",\"S\",\"P\",\"E\",\"A\",\"D\"]\n",
    "]\n",
    "\n",
    "ga = GeneticAlgorithm(100, sequences, max_iters=50)\n",
    "ga.run()"
   ]
  },
  {
   "cell_type": "code",
   "execution_count": 17,
   "metadata": {},
   "outputs": [
    {
     "data": {
      "text/plain": [
       "-48"
      ]
     },
     "execution_count": 17,
     "metadata": {},
     "output_type": "execute_result"
    }
   ],
   "source": [
    "sequences = [\n",
    "    [\"G\",\"C\",\"P\",\"F\",\"S\",\"-\",\"S\",\"P\",\"N\",\"V\",\"E\",\"A\"],\n",
    "    [\"G\",\"C\",\"P\",\"Y\",\"G\",\"C\", \"S\",\"P\",\"E\",\"A\",\"D\", \"-\"]\n",
    "]\n",
    "\n",
    "\n",
    "ga.fitness(\n",
    "    sequences\n",
    ")"
   ]
  },
  {
   "cell_type": "code",
   "execution_count": 18,
   "metadata": {},
   "outputs": [],
   "source": [
    "def preprocess(sequences, out=False):\n",
    "    sequences_output = []\n",
    "    for sequence in sequences:\n",
    "        s = []\n",
    "        for letter in sequence:\n",
    "            if out == False and letter == \".\" or letter == \" \":\n",
    "                continue\n",
    "            s.append(letter.upper())\n",
    "        sequences_output.append(s)\n",
    "    \n",
    "    if out:\n",
    "        return sequences_output\n",
    "    return list(sorted(sequences_output, key=len, reverse=True))"
   ]
  },
  {
   "cell_type": "code",
   "execution_count": 19,
   "metadata": {},
   "outputs": [],
   "source": [
    "sequences = [\n",
    "   \"gpeeRKVYEEMAEKDKERYKREM\",\n",
    "    \"speeKQAYIQLAKDDRIRYDNEMksweeqmae\",\n",
    "    \"..kdKSEWEAKAATAKQNYIRALqeyerngg.\",\n",
    "    #\"seseKAPYVAKANKLKGEYNKAIaaynkgesa\"\n",
    "]\n",
    "sequences = preprocess(sequences)"
   ]
  },
  {
   "cell_type": "code",
   "execution_count": 20,
   "metadata": {},
   "outputs": [],
   "source": [
    "def print_sequences(sequences):\n",
    "    for sequence in sequences:\n",
    "        for letter in sequence:\n",
    "            print(letter, end=\"\")\n",
    "        print(\"\\n\")"
   ]
  },
  {
   "cell_type": "code",
   "execution_count": 21,
   "metadata": {},
   "outputs": [
    {
     "name": "stdout",
     "output_type": "stream",
     "text": [
      "SPEEKQAYIQLAKDDRIRYDNEMKSWEEQMAE\n",
      "\n",
      "KDKSEWEAKAATAKQNYIRALQEYERNGG\n",
      "\n",
      "GPEERKVYEEMAEKDKERYKREM\n",
      "\n"
     ]
    }
   ],
   "source": [
    "print_sequences(sequences)"
   ]
  },
  {
   "cell_type": "code",
   "execution_count": 22,
   "metadata": {},
   "outputs": [
    {
     "data": {
      "text/plain": [
       "-167"
      ]
     },
     "execution_count": 22,
     "metadata": {},
     "output_type": "execute_result"
    }
   ],
   "source": [
    "ga.fitness(preprocess([\n",
    "    \"speeKQAYIQLAKDDRIRYDNEMksweeqmae\",\n",
    "    \"--kdKSEWEAKAATAKQNYIRALqeyerngg-\",\n",
    "    \"gpeeRKVYEEMAEKDKERYKREM---------\",\n",
    "], out=True))"
   ]
  },
  {
   "cell_type": "code",
   "execution_count": 23,
   "metadata": {},
   "outputs": [
    {
     "name": "stdout",
     "output_type": "stream",
     "text": [
      "GPEERKVYEEMAEKDKERYKREM---------\n",
      "\n",
      "SPEEKQAYIQLAKDDRIRYDNEMKSWEEQMAE\n",
      "\n"
     ]
    }
   ],
   "source": [
    "print_sequences(preprocess([   \"gpeeRKVYEEMAEKDKERYKREM---------\",\n",
    "    \"speeKQAYIQLAKDDRIRYDNEMksweeqmae\",]))"
   ]
  },
  {
   "cell_type": "code",
   "execution_count": 24,
   "metadata": {},
   "outputs": [],
   "source": [
    "ga = GeneticAlgorithm(500, sequences, max_iters=100)\n",
    "fitness, sequence = ga.run()"
   ]
  },
  {
   "cell_type": "code",
   "execution_count": 25,
   "metadata": {},
   "outputs": [
    {
     "data": {
      "text/plain": [
       "np.float64(-81.0)"
      ]
     },
     "execution_count": 25,
     "metadata": {},
     "output_type": "execute_result"
    }
   ],
   "source": [
    "fitness"
   ]
  },
  {
   "cell_type": "code",
   "execution_count": 26,
   "metadata": {},
   "outputs": [
    {
     "name": "stdout",
     "output_type": "stream",
     "text": [
      "SPEEKQAYIQLAKDDRIRYDNEMKSWEEQMAE\n",
      "\n",
      "KDKSEW-E-AKAATAKQNYIRALQEYERN-GG\n",
      "\n",
      "GPEERKV-Y--EEMAE-K-DKERYKRE--M--\n",
      "\n"
     ]
    }
   ],
   "source": [
    "print_sequences(sequence)"
   ]
  },
  {
   "cell_type": "code",
   "execution_count": null,
   "metadata": {},
   "outputs": [],
   "source": []
  }
 ],
 "metadata": {
  "kernelspec": {
   "display_name": "base",
   "language": "python",
   "name": "python3"
  },
  "language_info": {
   "codemirror_mode": {
    "name": "ipython",
    "version": 3
   },
   "file_extension": ".py",
   "mimetype": "text/x-python",
   "name": "python",
   "nbconvert_exporter": "python",
   "pygments_lexer": "ipython3",
   "version": "3.11.10"
  }
 },
 "nbformat": 4,
 "nbformat_minor": 2
}
